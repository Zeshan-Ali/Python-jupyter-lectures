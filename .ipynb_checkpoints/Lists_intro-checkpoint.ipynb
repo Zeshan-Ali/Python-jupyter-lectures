{
 "cells": [
  {
   "cell_type": "code",
   "execution_count": 9,
   "id": "ccf8e320",
   "metadata": {},
   "outputs": [],
   "source": [
    "vegs = [\"gobhi\", \"matar\", \"alu\",\"kaddu\", \"band gobhi\"]"
   ]
  },
  {
   "cell_type": "code",
   "execution_count": 10,
   "id": "49e0f09a",
   "metadata": {},
   "outputs": [
    {
     "data": {
      "text/plain": [
       "list"
      ]
     },
     "execution_count": 10,
     "metadata": {},
     "output_type": "execute_result"
    }
   ],
   "source": [
    "type(vegs)"
   ]
  },
  {
   "cell_type": "code",
   "execution_count": 3,
   "id": "b5e58239",
   "metadata": {},
   "outputs": [],
   "source": [
    "ages_of_students = [2,3,4,5,6,18,19,20]"
   ]
  },
  {
   "cell_type": "code",
   "execution_count": 6,
   "id": "8df16e1d",
   "metadata": {},
   "outputs": [
    {
     "data": {
      "text/plain": [
       "['gobhi', 'matar', 'alu', 'kaddu', 'band gobhi']"
      ]
     },
     "execution_count": 6,
     "metadata": {},
     "output_type": "execute_result"
    }
   ],
   "source": [
    "veg"
   ]
  },
  {
   "cell_type": "code",
   "execution_count": 7,
   "id": "40c9be27",
   "metadata": {},
   "outputs": [
    {
     "name": "stdout",
     "output_type": "stream",
     "text": [
      "['gobhi', 'matar', 'alu', 'kaddu', 'band gobhi']\n"
     ]
    }
   ],
   "source": [
    "print(veg)"
   ]
  },
  {
   "cell_type": "code",
   "execution_count": 8,
   "id": "a8c733dd",
   "metadata": {},
   "outputs": [
    {
     "name": "stdout",
     "output_type": "stream",
     "text": [
      "the vegetable list ['gobhi', 'matar', 'alu', 'kaddu', 'band gobhi']\n"
     ]
    }
   ],
   "source": [
    "print(\"the vegetable list\", veg)"
   ]
  },
  {
   "cell_type": "code",
   "execution_count": 11,
   "id": "cbd66844",
   "metadata": {},
   "outputs": [
    {
     "data": {
      "text/plain": [
       "'gobhi'"
      ]
     },
     "execution_count": 11,
     "metadata": {},
     "output_type": "execute_result"
    }
   ],
   "source": [
    "veg[0] # indexing "
   ]
  },
  {
   "cell_type": "code",
   "execution_count": 12,
   "id": "7fd8ff7c",
   "metadata": {},
   "outputs": [
    {
     "data": {
      "text/plain": [
       "'matar'"
      ]
     },
     "execution_count": 12,
     "metadata": {},
     "output_type": "execute_result"
    }
   ],
   "source": [
    "veg[1]"
   ]
  },
  {
   "cell_type": "code",
   "execution_count": 13,
   "id": "8619d944",
   "metadata": {},
   "outputs": [
    {
     "data": {
      "text/plain": [
       "'alu'"
      ]
     },
     "execution_count": 13,
     "metadata": {},
     "output_type": "execute_result"
    }
   ],
   "source": [
    "veg[2\n",
    "   ]"
   ]
  },
  {
   "cell_type": "code",
   "execution_count": 16,
   "id": "97ead7b8",
   "metadata": {},
   "outputs": [
    {
     "data": {
      "text/plain": [
       "'band gobhi'"
      ]
     },
     "execution_count": 16,
     "metadata": {},
     "output_type": "execute_result"
    }
   ],
   "source": [
    "veg[4]"
   ]
  },
  {
   "cell_type": "code",
   "execution_count": 17,
   "id": "9ea6b18d",
   "metadata": {},
   "outputs": [],
   "source": [
    "veg.append(\"teendy\") # append function insert new element in list at last"
   ]
  },
  {
   "cell_type": "code",
   "execution_count": 18,
   "id": "d6b43e68",
   "metadata": {},
   "outputs": [
    {
     "data": {
      "text/plain": [
       "['gobhi', 'matar', 'alu', 'kaddu', 'band gobhi', 'teendy']"
      ]
     },
     "execution_count": 18,
     "metadata": {},
     "output_type": "execute_result"
    }
   ],
   "source": [
    "veg"
   ]
  },
  {
   "cell_type": "code",
   "execution_count": 23,
   "id": "316068c1",
   "metadata": {},
   "outputs": [],
   "source": [
    "veg.insert(0,\"ghia kaddu\") #insert also insert eleement in list but in desired location"
   ]
  },
  {
   "cell_type": "code",
   "execution_count": 35,
   "id": "57aba929",
   "metadata": {},
   "outputs": [
    {
     "name": "stdout",
     "output_type": "stream",
     "text": [
      "vegetable name 0\n",
      "vegetable name 1\n",
      "vegetable name 2\n",
      "vegetable name 3\n",
      "vegetable name 4\n",
      "vegetable name 5\n",
      "vegetable name 6\n",
      "vegetable name 7\n",
      "vegetable name 8\n",
      "vegetable name 9\n"
     ]
    }
   ],
   "source": [
    "for v in range(len(veg)):\n",
    "    print(\"vegetable name\",v)"
   ]
  },
  {
   "cell_type": "code",
   "execution_count": 36,
   "id": "23c5ceec",
   "metadata": {},
   "outputs": [
    {
     "name": "stdout",
     "output_type": "stream",
     "text": [
      "please enter desired veg name:dhania\n"
     ]
    },
    {
     "data": {
      "text/plain": [
       "['bengan',\n",
       " 'ghia kaddu',\n",
       " 'ghia kaddu',\n",
       " 'dhania',\n",
       " 'gobhi',\n",
       " 'matar',\n",
       " 'alu',\n",
       " 'kaddu',\n",
       " 'band gobhi',\n",
       " 'teendy',\n",
       " 'torian']"
      ]
     },
     "execution_count": 36,
     "metadata": {},
     "output_type": "execute_result"
    }
   ],
   "source": [
    "des_veg=input(\"please enter desired veg name:\")\n",
    "veg.insert(3,des_veg)\n",
    "veg"
   ]
  },
  {
   "cell_type": "code",
   "execution_count": null,
   "id": "4159bd3c",
   "metadata": {},
   "outputs": [],
   "source": [
    "# append \n",
    "# insert\n",
    "#len"
   ]
  },
  {
   "cell_type": "code",
   "execution_count": 33,
   "id": "9beed053",
   "metadata": {},
   "outputs": [
    {
     "data": {
      "text/plain": [
       "10"
      ]
     },
     "execution_count": 33,
     "metadata": {},
     "output_type": "execute_result"
    }
   ],
   "source": [
    "len(veg) # this function will return number of elements in list"
   ]
  },
  {
   "cell_type": "code",
   "execution_count": null,
   "id": "12bb0fd1",
   "metadata": {},
   "outputs": [],
   "source": []
  }
 ],
 "metadata": {
  "kernelspec": {
   "display_name": "Python 3 (ipykernel)",
   "language": "python",
   "name": "python3"
  },
  "language_info": {
   "codemirror_mode": {
    "name": "ipython",
    "version": 3
   },
   "file_extension": ".py",
   "mimetype": "text/x-python",
   "name": "python",
   "nbconvert_exporter": "python",
   "pygments_lexer": "ipython3",
   "version": "3.9.7"
  }
 },
 "nbformat": 4,
 "nbformat_minor": 5
}
