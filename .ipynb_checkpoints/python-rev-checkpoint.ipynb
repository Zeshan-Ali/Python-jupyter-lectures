{
 "cells": [
  {
   "cell_type": "code",
   "execution_count": 1,
   "id": "adf95c81",
   "metadata": {},
   "outputs": [
    {
     "name": "stdout",
     "output_type": "stream",
     "text": [
      "hello bacho\n"
     ]
    }
   ],
   "source": [
    "print(\"hello bacho\")"
   ]
  },
  {
   "cell_type": "code",
   "execution_count": 9,
   "id": "47807410",
   "metadata": {},
   "outputs": [
    {
     "name": "stdout",
     "output_type": "stream",
     "text": [
      "enter your age:18\n",
      "you are eligible for admission\n"
     ]
    }
   ],
   "source": [
    "age = int(input(\"enter your age:\"))\n",
    "if (age >= 18):\n",
    "    print(\"you are eligible for admission\")\n",
    "else:\n",
    "    print(\"you are not eligible\")"
   ]
  },
  {
   "cell_type": "code",
   "execution_count": 13,
   "id": "68d4cd61",
   "metadata": {},
   "outputs": [
    {
     "name": "stdout",
     "output_type": "stream",
     "text": [
      "Please enter your percentage10\n",
      "nalaiq sahee value enter kro\n"
     ]
    }
   ],
   "source": [
    "percentage = float(input(\"Please enter your percentage\"))\n",
    "\n",
    "if(percentage > 80):\n",
    "    print(\"grade is A\")\n",
    "elif (percentage > 70):\n",
    "    print(\"grade is b\")\n",
    "elif (percentage > 60):\n",
    "    print(\"grade is c\")\n",
    "elif (percentage > 50):\n",
    "    print(\"grade is d\")\n",
    "elif (percentage > 40):\n",
    "    print(\"grade is e\")\n",
    "elif (percentage > 30):\n",
    "    print(\"grade is f\")\n",
    "else:\n",
    "    print(\"nalaiq sahee value enter kro:)"
   ]
  },
  {
   "cell_type": "code",
   "execution_count": 16,
   "id": "ad75f5b7",
   "metadata": {},
   "outputs": [
    {
     "name": "stdout",
     "output_type": "stream",
     "text": [
      "please enter your age:17\n",
      "do yiu have SSC certificate , if yes enter y if no enter n:y\n",
      "you are not eligible\n"
     ]
    }
   ],
   "source": [
    "age = int(input(\"please enter your age:\"))\n",
    "SSC_status = input(\"do yiu have SSC certificate , if yes enter y if no enter n:\")\n",
    "if(age >=18 and SSC_status ==\"y\" ):\n",
    "    print(\"you are eligible fo CNIC\")\n",
    "else:\n",
    "    print(\"you are not eligible\")"
   ]
  },
  {
   "cell_type": "code",
   "execution_count": 19,
   "id": "22570c59",
   "metadata": {},
   "outputs": [
    {
     "name": "stdout",
     "output_type": "stream",
     "text": [
      "please enter your age:17\n",
      "do yiu have  b form , if yes enter y if no enter n:y\n",
      "you are eligible fo CNIC\n"
     ]
    }
   ],
   "source": [
    "age = int(input(\"please enter your age:\"))\n",
    "b_status = input(\"do yiu have  b form , if yes enter y if no enter n:\")\n",
    "if(age >=18 or b_status ==\"y\" ):\n",
    "    print(\"you are eligible fo CNIC\")\n",
    "else:\n",
    "    print(\"you are not eligible\")"
   ]
  },
  {
   "cell_type": "code",
   "execution_count": 25,
   "id": "6e8317b6",
   "metadata": {},
   "outputs": [
    {
     "name": "stdout",
     "output_type": "stream",
     "text": [
      "please enter your age:18\n",
      "do yiu have  b form , if yes enter y if no enter n:n\n",
      "you are eligible fo CNIC\n"
     ]
    }
   ],
   "source": [
    "age = int(input(\"please enter your age:\"))\n",
    "if(age>=18):  # outer if\n",
    "    b_status = input(\"do yiu have  b form , if yes enter y if no enter n:\")\n",
    "    if(age >=18 or b_status ==\"y\" ): # inner if\n",
    "        print(\"you are eligible fo CNIC\")\n",
    "    else:\n",
    "        print(\"you are not eligible\")  \n",
    "else:\n",
    "    print(\"you are too young\")"
   ]
  },
  {
   "cell_type": "code",
   "execution_count": null,
   "id": "f08fc671",
   "metadata": {},
   "outputs": [],
   "source": []
  }
 ],
 "metadata": {
  "kernelspec": {
   "display_name": "Python 3 (ipykernel)",
   "language": "python",
   "name": "python3"
  },
  "language_info": {
   "codemirror_mode": {
    "name": "ipython",
    "version": 3
   },
   "file_extension": ".py",
   "mimetype": "text/x-python",
   "name": "python",
   "nbconvert_exporter": "python",
   "pygments_lexer": "ipython3",
   "version": "3.9.7"
  }
 },
 "nbformat": 4,
 "nbformat_minor": 5
}
