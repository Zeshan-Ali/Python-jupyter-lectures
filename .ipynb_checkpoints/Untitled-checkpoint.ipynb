{
 "cells": [
  {
   "cell_type": "markdown",
   "id": "42ecfa59",
   "metadata": {},
   "source": [
    " # Looping structure"
   ]
  },
  {
   "cell_type": "code",
   "execution_count": 13,
   "id": "f120797c",
   "metadata": {},
   "outputs": [
    {
     "name": "stdout",
     "output_type": "stream",
     "text": [
      "i: 10\n",
      "i: 9\n",
      "i: 8\n",
      "i: 7\n",
      "i: 6\n",
      "i: 5\n",
      "i: 4\n",
      "i: 3\n",
      "i: 2\n",
      "i: 1\n",
      "loops ends\n"
     ]
    }
   ],
   "source": [
    "# while loop\n",
    "i = 10\n",
    "while(i >= 1):\n",
    "    print(\"i:\",i)\n",
    "    i = i -1\n",
    "print(\"loops ends\")"
   ]
  },
  {
   "cell_type": "code",
   "execution_count": 18,
   "id": "cd542700",
   "metadata": {},
   "outputs": [
    {
     "name": "stdout",
     "output_type": "stream",
     "text": [
      "please enter you age-9\n",
      "please enter you age08\n",
      "your age is: 8\n"
     ]
    }
   ],
   "source": [
    "age = int(input(\"please enter you age\"))\n",
    "\n",
    "\n",
    "while (age < 0):\n",
    "    age = int(input(\"please enter you age\"))\n",
    "    print(\"your age is:\", age)"
   ]
  },
  {
   "cell_type": "code",
   "execution_count": 25,
   "id": "36c5726f",
   "metadata": {},
   "outputs": [
    {
     "name": "stdout",
     "output_type": "stream",
     "text": [
      "Please enter your percentage31\n",
      "F\n"
     ]
    }
   ],
   "source": [
    "perce = float(input(\"Please enter your percentage\"))\n",
    "while(perce <0):\n",
    "    perce = float(input(\"Please enter your percentage (non negative)\"))\n",
    "else:\n",
    "    if(perce>80):\n",
    "        print(\"A\")\n",
    "    elif(perce>70):\n",
    "        print(\"B\")\n",
    "    elif(perce>60):\n",
    "        print(\"C\")\n",
    "    elif(perce>50):\n",
    "        print(\"D\")\n",
    "    elif(perce>40):\n",
    "        print(\"E\")\n",
    "    elif(perce>30):\n",
    "        print(\"F\")\n",
    "    else:\n",
    "        print(\"percentage must be greater than 30 to achieve any grade\")"
   ]
  },
  {
   "cell_type": "code",
   "execution_count": 35,
   "id": "07f6b485",
   "metadata": {},
   "outputs": [
    {
     "name": "stdout",
     "output_type": "stream",
     "text": [
      "i: 0\n",
      "i: 1\n",
      "i: 2\n",
      "i: 3\n",
      "i: 4\n",
      "i: 5\n",
      "i: 6\n",
      "i: 7\n",
      "i: 8\n",
      "i: 9\n",
      "i: 10\n",
      "done\n"
     ]
    }
   ],
   "source": [
    "for i in range(0,11) :\n",
    "    print(\"i:\",i)\n",
    "    i=i+1\n",
    "    \n",
    "print(\"done\")"
   ]
  },
  {
   "cell_type": "code",
   "execution_count": 52,
   "id": "5a36e97b",
   "metadata": {},
   "outputs": [
    {
     "name": "stdout",
     "output_type": "stream",
     "text": [
      "hello\n",
      "alpha: H\n",
      "hello\n",
      "alpha: a\n",
      "hello\n",
      "alpha: m\n",
      "hello\n",
      "alpha: z\n",
      "hello\n",
      "alpha: a\n"
     ]
    }
   ],
   "source": [
    "name = 'Hamza'\n",
    "for alpha in name:\n",
    "    print(\"hello\")\n",
    "    print(\"alpha:\",alpha)"
   ]
  },
  {
   "cell_type": "code",
   "execution_count": 58,
   "id": "ebba1d9b",
   "metadata": {},
   "outputs": [
    {
     "name": "stdout",
     "output_type": "stream",
     "text": [
      "whatt are you doing with dog now:cooking meal\n",
      "c\n",
      "o\n",
      "o\n",
      "k\n",
      "i\n",
      "n\n",
      "g\n",
      " \n",
      "m\n",
      "e\n",
      "a\n",
      "l\n"
     ]
    }
   ],
   "source": [
    "activity = input(\"whatt are you doing with dog now:\")\n",
    "\n",
    "for ch in activity:\n",
    "    print(ch)"
   ]
  },
  {
   "cell_type": "code",
   "execution_count": 63,
   "id": "6490316c",
   "metadata": {},
   "outputs": [
    {
     "name": "stdout",
     "output_type": "stream",
     "text": [
      "please enter lower alphabets:HAHAHAHA\n",
      "H\n",
      "A\n",
      "H\n",
      "A\n",
      "H\n",
      "A\n",
      "H\n",
      "A\n",
      "done\n"
     ]
    }
   ],
   "source": [
    "str = input(\"please enter lower alphabets:\")\n",
    "for temp in str:\n",
    "    if(temp <'A') or (temp>'Z'):\n",
    "        break\n",
    "    print(temp)\n",
    "print(\"done\")"
   ]
  },
  {
   "cell_type": "code",
   "execution_count": null,
   "id": "8ec0a45d",
   "metadata": {},
   "outputs": [],
   "source": []
  }
 ],
 "metadata": {
  "kernelspec": {
   "display_name": "Python 3 (ipykernel)",
   "language": "python",
   "name": "python3"
  },
  "language_info": {
   "codemirror_mode": {
    "name": "ipython",
    "version": 3
   },
   "file_extension": ".py",
   "mimetype": "text/x-python",
   "name": "python",
   "nbconvert_exporter": "python",
   "pygments_lexer": "ipython3",
   "version": "3.9.7"
  }
 },
 "nbformat": 4,
 "nbformat_minor": 5
}
