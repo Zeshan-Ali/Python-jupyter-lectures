{
 "cells": [
  {
   "cell_type": "markdown",
   "id": "42ecfa59",
   "metadata": {},
   "source": [
    " # Looping structure"
   ]
  },
  {
   "cell_type": "code",
   "execution_count": 1,
   "id": "f120797c",
   "metadata": {},
   "outputs": [
    {
     "name": "stdout",
     "output_type": "stream",
     "text": [
      "i: 10\n",
      "i: 9\n",
      "i: 8\n",
      "i: 7\n",
      "i: 6\n",
      "i: 5\n",
      "i: 4\n",
      "i: 3\n",
      "i: 2\n",
      "i: 1\n",
      "loops ends\n"
     ]
    }
   ],
   "source": [
    "# while loop\n",
    "i = 10   # control variable initialize\n",
    "while(i >= 1):     # condition\n",
    "    print(\"i:\",i)\n",
    "    i = i -1   # update (decrement)\n",
    "print(\"loops ends\")"
   ]
  },
  {
   "cell_type": "code",
   "execution_count": 7,
   "id": "cd542700",
   "metadata": {},
   "outputs": [
    {
     "name": "stdout",
     "output_type": "stream",
     "text": [
      "please enter you age14\n",
      "please enter you age (enter more than 18 and positive value)-7\n",
      "please enter you age (enter more than 18 and positive value)18\n",
      "please enter you age (enter more than 18 and positive value)19\n",
      "you are eligibe\n"
     ]
    }
   ],
   "source": [
    "age = int(input(\"please enter you age\"))\n",
    "\n",
    "\n",
    "while (age <= 18 or age<0):\n",
    "    age = int(input(\"please enter you age (enter more than 18 and positive value)\"))\n",
    "else:\n",
    "    print(\"you are eligibe\")"
   ]
  },
  {
   "cell_type": "code",
   "execution_count": 25,
   "id": "36c5726f",
   "metadata": {},
   "outputs": [
    {
     "name": "stdout",
     "output_type": "stream",
     "text": [
      "Please enter your percentage31\n",
      "F\n"
     ]
    }
   ],
   "source": [
    "perce = float(input(\"Please enter your percentage\"))\n",
    "while(perce <0):\n",
    "    perce = float(input(\"Please enter your percentage (non negative)\"))\n",
    "else:\n",
    "    if(perce>80):\n",
    "        print(\"A\")\n",
    "    elif(perce>70):\n",
    "        print(\"B\")\n",
    "    elif(perce>60):\n",
    "        print(\"C\")\n",
    "    elif(perce>50):\n",
    "        print(\"D\")\n",
    "    elif(perce>40):\n",
    "        print(\"E\")\n",
    "    elif(perce>30):\n",
    "        print(\"F\")\n",
    "    else:\n",
    "        print(\"percentage must be greater than 30 to achieve any grade\")"
   ]
  },
  {
   "cell_type": "code",
   "execution_count": 35,
   "id": "07f6b485",
   "metadata": {},
   "outputs": [
    {
     "name": "stdout",
     "output_type": "stream",
     "text": [
      "i: 0\n",
      "i: 1\n",
      "i: 2\n",
      "i: 3\n",
      "i: 4\n",
      "i: 5\n",
      "i: 6\n",
      "i: 7\n",
      "i: 8\n",
      "i: 9\n",
      "i: 10\n",
      "done\n"
     ]
    }
   ],
   "source": [
    "for i in range(0,11) :\n",
    "    print(\"i:\",i)\n",
    "    i=i+1\n",
    "    \n",
    "print(\"done\")"
   ]
  },
  {
   "cell_type": "code",
   "execution_count": 52,
   "id": "5a36e97b",
   "metadata": {},
   "outputs": [
    {
     "name": "stdout",
     "output_type": "stream",
     "text": [
      "hello\n",
      "alpha: H\n",
      "hello\n",
      "alpha: a\n",
      "hello\n",
      "alpha: m\n",
      "hello\n",
      "alpha: z\n",
      "hello\n",
      "alpha: a\n"
     ]
    }
   ],
   "source": [
    "name = 'Hamza'\n",
    "for alpha in name:\n",
    "    print(\"hello\")\n",
    "    print(\"alpha:\",alpha)"
   ]
  },
  {
   "cell_type": "code",
   "execution_count": 58,
   "id": "ebba1d9b",
   "metadata": {},
   "outputs": [
    {
     "name": "stdout",
     "output_type": "stream",
     "text": [
      "whatt are you doing with dog now:cooking meal\n",
      "c\n",
      "o\n",
      "o\n",
      "k\n",
      "i\n",
      "n\n",
      "g\n",
      " \n",
      "m\n",
      "e\n",
      "a\n",
      "l\n"
     ]
    }
   ],
   "source": [
    "activity = input(\"whatt are you doing with dog now:\")\n",
    "\n",
    "for ch in activity:\n",
    "    print(ch)"
   ]
  },
  {
   "cell_type": "code",
   "execution_count": 63,
   "id": "6490316c",
   "metadata": {},
   "outputs": [
    {
     "name": "stdout",
     "output_type": "stream",
     "text": [
      "please enter lower alphabets:HAHAHAHA\n",
      "H\n",
      "A\n",
      "H\n",
      "A\n",
      "H\n",
      "A\n",
      "H\n",
      "A\n",
      "done\n"
     ]
    }
   ],
   "source": [
    "str = input(\"please enter lower alphabets:\")\n",
    "for temp in str:\n",
    "    if(temp <'A') or (temp>'Z'):\n",
    "        break\n",
    "    print(temp)\n",
    "print(\"done\")"
   ]
  },
  {
   "cell_type": "code",
   "execution_count": 8,
   "id": "8ec0a45d",
   "metadata": {},
   "outputs": [
    {
     "name": "stdout",
     "output_type": "stream",
     "text": [
      "hello\n",
      "hello\n",
      "hello\n",
      "hello\n",
      "hello\n",
      "hello\n",
      "hello\n",
      "hello\n",
      "hello\n",
      "hello\n"
     ]
    }
   ],
   "source": [
    "for n in range(10):\n",
    "    print(\"hello\")"
   ]
  },
  {
   "cell_type": "code",
   "execution_count": 23,
   "id": "1483f2d2",
   "metadata": {},
   "outputs": [
    {
     "name": "stdout",
     "output_type": "stream",
     "text": [
      "please enter your age12\n",
      "please enter your age12\n",
      "please enter your age98\n",
      "please enter your age-9\n",
      "you are eligible\n"
     ]
    }
   ],
   "source": [
    "flag = True\n",
    "\n",
    "while(flag==True):\n",
    "    age = int(input(\"please enter your age\"))\n",
    "    if(age<0 and age <= 18):\n",
    "        flag=False\n",
    "else:\n",
    "    print(\"you are eligible\")"
   ]
  },
  {
   "cell_type": "code",
   "execution_count": 34,
   "id": "17c3e2fa",
   "metadata": {},
   "outputs": [
    {
     "name": "stdout",
     "output_type": "stream",
     "text": [
      "value of outer i: 1\n",
      "value of inner ii: 1\n",
      "value of outer i: 2\n",
      "value of inner ii: 1\n",
      "value of outer i: 2\n",
      "value of inner ii: 2\n",
      "value of outer i: 3\n",
      "value of inner ii: 1\n",
      "value of outer i: 3\n",
      "value of inner ii: 2\n",
      "value of outer i: 3\n",
      "value of inner ii: 3\n",
      "value of outer i: 4\n",
      "value of inner ii: 1\n",
      "value of outer i: 4\n",
      "value of inner ii: 2\n",
      "value of outer i: 4\n",
      "value of inner ii: 3\n",
      "value of outer i: 4\n",
      "value of inner ii: 4\n",
      "value of outer i: 5\n",
      "value of inner ii: 1\n",
      "value of outer i: 5\n",
      "value of inner ii: 2\n",
      "value of outer i: 5\n",
      "value of inner ii: 3\n",
      "value of outer i: 5\n",
      "value of inner ii: 4\n",
      "value of outer i: 5\n",
      "value of inner ii: 5\n"
     ]
    }
   ],
   "source": [
    "oi = 0\n",
    "while(oi<=5):\n",
    "    ii=1\n",
    "    while(ii<=oi):\n",
    "        print(\"value of outer i:\",oi)\n",
    "        print(\"value of inner ii:\", ii)\n",
    "        ii=ii+1\n",
    "    oi=oi+1   "
   ]
  },
  {
   "cell_type": "code",
   "execution_count": 36,
   "id": "59f9301f",
   "metadata": {},
   "outputs": [
    {
     "name": "stdout",
     "output_type": "stream",
     "text": [
      "outer while value: 1\n",
      "inner while: 1\n",
      "outer while value: 1\n",
      "inner while: 2\n",
      "outer while value: 2\n",
      "inner while: 1\n",
      "outer while value: 2\n",
      "inner while: 2\n",
      "outer while value: 3\n",
      "inner while: 1\n",
      "outer while value: 3\n",
      "inner while: 2\n",
      "outer while value: 4\n",
      "inner while: 1\n",
      "outer while value: 4\n",
      "inner while: 2\n",
      "outer while value: 5\n",
      "inner while: 1\n",
      "outer while value: 5\n",
      "inner while: 2\n"
     ]
    }
   ],
   "source": [
    "i = 1\n",
    "while(i<=5):\n",
    "    inner_while = 1\n",
    "    while(inner_while <=2):\n",
    "        print(\"outer while value:\",i)\n",
    "        print(\"inner while:\",inner_while)\n",
    "        inner_while=inner_while+1\n",
    "    i=i+1"
   ]
  },
  {
   "cell_type": "code",
   "execution_count": null,
   "id": "5b952cbc",
   "metadata": {},
   "outputs": [],
   "source": []
  }
 ],
 "metadata": {
  "kernelspec": {
   "display_name": "Python 3 (ipykernel)",
   "language": "python",
   "name": "python3"
  },
  "language_info": {
   "codemirror_mode": {
    "name": "ipython",
    "version": 3
   },
   "file_extension": ".py",
   "mimetype": "text/x-python",
   "name": "python",
   "nbconvert_exporter": "python",
   "pygments_lexer": "ipython3",
   "version": "3.9.7"
  }
 },
 "nbformat": 4,
 "nbformat_minor": 5
}
