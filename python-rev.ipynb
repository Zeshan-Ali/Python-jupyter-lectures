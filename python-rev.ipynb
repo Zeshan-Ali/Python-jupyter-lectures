{
 "cells": [
  {
   "cell_type": "code",
   "execution_count": 1,
   "id": "edfccd80",
   "metadata": {},
   "outputs": [
    {
     "name": "stdout",
     "output_type": "stream",
     "text": [
      "hello bacho\n"
     ]
    }
   ],
   "source": [
    "print(\"hello bacho\")"
   ]
  },
  {
   "cell_type": "code",
   "execution_count": 9,
   "id": "f8ab16dd",
   "metadata": {},
   "outputs": [
    {
     "name": "stdout",
     "output_type": "stream",
     "text": [
      "enter your age:18\n",
      "you are eligible for admission\n"
     ]
    }
   ],
   "source": [
    "age = int(input(\"enter your age:\"))\n",
    "if (age >= 18):\n",
    "    print(\"you are eligible for admission\")\n",
    "else:\n",
    "    print(\"you are not eligible\")"
   ]
  },
  {
   "cell_type": "code",
   "execution_count": 10,
   "id": "e65a0a3f",
   "metadata": {},
   "outputs": [
    {
     "name": "stdout",
     "output_type": "stream",
     "text": [
      "Please enter your percentage80\n",
      "grade is b\n"
     ]
    }
   ],
   "source": [
    "percentage = float(input(\"Please enter your percentage\"))\n",
    "\n",
    "if(percentage > 80):\n",
    "    print(\"grade is A\")\n",
    "elif (percentage > 70):\n",
    "    print(\"grade is b\")\n",
    "elif (percentage > 60):\n",
    "    print(\"grade is c\")\n",
    "elif (percentage > 50):\n",
    "    print(\"grade is d\")\n",
    "elif (percentage > 40):\n",
    "    print(\"grade is e\")\n",
    "elif (percentage > 30):\n",
    "    print(\"grade is f\")\n",
    "else:\n",
    "    print(\"nalaiq sahee value enter kro\")"
   ]
  },
  {
   "cell_type": "code",
   "execution_count": null,
   "id": "9b0c4862",
   "metadata": {},
   "outputs": [],
   "source": []
  }
 ],
 "metadata": {
  "kernelspec": {
   "display_name": "Python 3 (ipykernel)",
   "language": "python",
   "name": "python3"
  },
  "language_info": {
   "codemirror_mode": {
    "name": "ipython",
    "version": 3
   },
   "file_extension": ".py",
   "mimetype": "text/x-python",
   "name": "python",
   "nbconvert_exporter": "python",
   "pygments_lexer": "ipython3",
   "version": "3.9.7"
  }
 },
 "nbformat": 4,
 "nbformat_minor": 5
}
