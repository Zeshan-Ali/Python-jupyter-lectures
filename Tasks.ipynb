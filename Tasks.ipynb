{
 "cells": [
  {
   "cell_type": "code",
   "execution_count": 7,
   "id": "d62ad192",
   "metadata": {},
   "outputs": [
    {
     "name": "stdout",
     "output_type": "stream",
     "text": [
      "first element: mango\n",
      "last element apple\n"
     ]
    }
   ],
   "source": [
    "#Task 1: List Basics*\n",
    "#1. Create a list of your favorite fruits and print the first and last items in the list.\n",
    "fruits = [\"mango\",\"angoor\",\"amrood\",\"apple\"]\n",
    "print(\"first element:\",fruits[0])\n",
    "print(\"last element\",fruits[-1])"
   ]
  },
  {
   "cell_type": "code",
   "execution_count": 9,
   "id": "a9839e2d",
   "metadata": {},
   "outputs": [
    {
     "name": "stdout",
     "output_type": "stream",
     "text": [
      "the sum is: 1\n",
      "the sum is: 3\n",
      "the sum is: 6\n",
      "the sum is: 10\n",
      "the sum is: 15\n"
     ]
    }
   ],
   "source": [
    "#Task 2: List Manipulation*\n",
    "#2. Given a list of numbers, calculate and print the sum of all the numbers in the list.\n",
    "\n",
    "num_list = [1,2,3,4,5]\n",
    "sum= 0\n",
    "for n in num_list:\n",
    "    sum=n+sum\n",
    "    print(\"the sum is:\", sum)\n",
    "    \n",
    "\n"
   ]
  },
  {
   "cell_type": "code",
   "execution_count": 16,
   "id": "72663d85",
   "metadata": {},
   "outputs": [],
   "source": []
  },
  {
   "cell_type": "code",
   "execution_count": 28,
   "id": "33a143bc",
   "metadata": {},
   "outputs": [
    {
     "name": "stdout",
     "output_type": "stream",
     "text": [
      "enter a number for adding in list:1\n",
      "enter a number for adding in list:2\n",
      "enter a number for adding in list:\n"
     ]
    },
    {
     "ename": "ValueError",
     "evalue": "invalid literal for int() with base 10: ''",
     "output_type": "error",
     "traceback": [
      "\u001b[1;31m---------------------------------------------------------------------------\u001b[0m",
      "\u001b[1;31mValueError\u001b[0m                                Traceback (most recent call last)",
      "\u001b[1;32m~\\AppData\\Local\\Temp\\ipykernel_12672\\2993024449.py\u001b[0m in \u001b[0;36m<cell line: 5>\u001b[1;34m()\u001b[0m\n\u001b[0;32m      4\u001b[0m \u001b[0mnum_list\u001b[0m \u001b[1;33m=\u001b[0m \u001b[1;33m[\u001b[0m\u001b[1;33m]\u001b[0m\u001b[1;33m\u001b[0m\u001b[1;33m\u001b[0m\u001b[0m\n\u001b[0;32m      5\u001b[0m \u001b[1;32mfor\u001b[0m \u001b[0mi\u001b[0m \u001b[1;32min\u001b[0m \u001b[0mrange\u001b[0m\u001b[1;33m(\u001b[0m\u001b[1;36m5\u001b[0m\u001b[1;33m)\u001b[0m\u001b[1;33m:\u001b[0m\u001b[1;33m\u001b[0m\u001b[1;33m\u001b[0m\u001b[0m\n\u001b[1;32m----> 6\u001b[1;33m     \u001b[0mnum\u001b[0m \u001b[1;33m=\u001b[0m \u001b[0mint\u001b[0m\u001b[1;33m(\u001b[0m\u001b[0minput\u001b[0m\u001b[1;33m(\u001b[0m\u001b[1;34m\"enter a number for adding in list:\"\u001b[0m\u001b[1;33m)\u001b[0m\u001b[1;33m)\u001b[0m\u001b[1;33m\u001b[0m\u001b[1;33m\u001b[0m\u001b[0m\n\u001b[0m\u001b[0;32m      7\u001b[0m     \u001b[0mnum_list\u001b[0m\u001b[1;33m.\u001b[0m\u001b[0mappend\u001b[0m\u001b[1;33m(\u001b[0m\u001b[0mnum\u001b[0m\u001b[1;33m)\u001b[0m\u001b[1;33m\u001b[0m\u001b[1;33m\u001b[0m\u001b[0m\n\u001b[0;32m      8\u001b[0m \u001b[1;33m\u001b[0m\u001b[0m\n",
      "\u001b[1;31mValueError\u001b[0m: invalid literal for int() with base 10: ''"
     ]
    }
   ],
   "source": [
    "### Task 3: Even/Odd List Elements*\n",
    "#3. Create a program that takes a list of numbers as input and prints whether each number is even or odd.\n",
    "\n",
    "num_list = []\n",
    "for i in range(5):\n",
    "    num = int(input(\"enter a number for adding in list:\"))\n",
    "    num_list.append(num)\n",
    "\n",
    "\n",
    "\n",
    "for n in num_list:\n",
    "    if(n%2 == 0):\n",
    "        print(\"this element is even:\", n)\n",
    "    else:\n",
    "        print(\"this element is odd:\", n)"
   ]
  },
  {
   "cell_type": "code",
   "execution_count": 19,
   "id": "cf200e89",
   "metadata": {},
   "outputs": [],
   "source": [
    "#*Task 4: List Filtering*\n",
    "#4. Write a program that takes a list of words as input and prints only the words that start with a vowel.\n",
    "\n",
    "\n"
   ]
  },
  {
   "cell_type": "code",
   "execution_count": 43,
   "id": "4d556f79",
   "metadata": {},
   "outputs": [],
   "source": [
    "a = [\"zeeshan\",\"arsalan\",\"usman\",\"rizwan\",\"adnan\",\"farooq\",\"usama\",\"bilal\",\"mehmad\",\"hanan\"]\n",
    "vow_name=[]\n",
    "cons_name=[]"
   ]
  },
  {
   "cell_type": "code",
   "execution_count": 44,
   "id": "8a8495e7",
   "metadata": {},
   "outputs": [
    {
     "name": "stdout",
     "output_type": "stream",
     "text": [
      "the naem starts with consanents: zeeshan\n",
      "the naem starts with voewels: arsalan\n",
      "the naem starts with voewels: usman\n",
      "the naem starts with consanents: rizwan\n",
      "the naem starts with voewels: adnan\n",
      "the naem starts with consanents: farooq\n",
      "the naem starts with voewels: usama\n",
      "the naem starts with consanents: bilal\n",
      "the naem starts with consanents: mehmad\n",
      "the naem starts with consanents: hanan\n",
      "the vowelns names list ['arsalan', 'usman', 'adnan', 'usama']\n",
      "the consanent name list ['zeeshan', 'rizwan', 'farooq', 'bilal', 'mehmad', 'hanan']\n"
     ]
    }
   ],
   "source": [
    "for name in a:\n",
    "    if(name[0]== 'a' or name[0]=='e' or name[0]=='i' or name[0]=='u' or name[0]=='o'):\n",
    "        print(\"the naem starts with voewels:\", name)\n",
    "        vow_name.append(name)\n",
    "        \n",
    "    else:\n",
    "        print(\"the naem starts with consanents:\",name)\n",
    "        cons_name.append(name)\n",
    "        \n",
    "print(\"the vowelns names list\", vow_name)\n",
    "print(\"the consanent name list\", cons_name)"
   ]
  },
  {
   "cell_type": "code",
   "execution_count": 32,
   "id": "a68a56eb",
   "metadata": {},
   "outputs": [],
   "source": [
    "naam = \"ali\""
   ]
  },
  {
   "cell_type": "code",
   "execution_count": 35,
   "id": "a7f74a4c",
   "metadata": {},
   "outputs": [
    {
     "data": {
      "text/plain": [
       "'a'"
      ]
     },
     "execution_count": 35,
     "metadata": {},
     "output_type": "execute_result"
    }
   ],
   "source": [
    "naam[0]"
   ]
  },
  {
   "cell_type": "code",
   "execution_count": null,
   "id": "a9ea761e",
   "metadata": {},
   "outputs": [],
   "source": []
  }
 ],
 "metadata": {
  "kernelspec": {
   "display_name": "Python 3 (ipykernel)",
   "language": "python",
   "name": "python3"
  },
  "language_info": {
   "codemirror_mode": {
    "name": "ipython",
    "version": 3
   },
   "file_extension": ".py",
   "mimetype": "text/x-python",
   "name": "python",
   "nbconvert_exporter": "python",
   "pygments_lexer": "ipython3",
   "version": "3.9.7"
  }
 },
 "nbformat": 4,
 "nbformat_minor": 5
}
