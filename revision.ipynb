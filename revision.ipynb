{
 "cells": [
  {
   "cell_type": "code",
   "execution_count": 1,
   "metadata": {},
   "outputs": [
    {
     "name": "stdout",
     "output_type": "stream",
     "text": [
      "Hello bacho khaop gye ho na\n"
     ]
    }
   ],
   "source": [
    "print(\"Hello bacho khaop gye ho na\")"
   ]
  },
  {
   "cell_type": "code",
   "execution_count": null,
   "metadata": {},
   "outputs": [],
   "source": [
    "percentage = float(input(\"Please enter your percentage\"))\n",
    "\n",
    "if(percentage > 80):\n",
    "    print(\"grade is A\")\n",
    "elif (percentage > 70):\n",
    "    print(\"grade is b\")\n",
    "elif (percentage > 60):\n",
    "    print(\"grade is c\")\n",
    "elif (percentage > 50):\n",
    "    print(\"grade is d\")\n",
    "elif (percentage > 40):\n",
    "    print(\"grade is e\")\n",
    "elif (percentage > 30):\n",
    "    print(\"grade is f\")\n",
    "else:\n",
    "    print(\"nalaiq sahee value enter kro\")"
   ]
  }
 ],
 "metadata": {
  "kernelspec": {
   "display_name": "base",
   "language": "python",
   "name": "python3"
  },
  "language_info": {
   "codemirror_mode": {
    "name": "ipython",
    "version": 3
   },
   "file_extension": ".py",
   "mimetype": "text/x-python",
   "name": "python",
   "nbconvert_exporter": "python",
   "pygments_lexer": "ipython3",
   "version": "3.9.7"
  },
  "orig_nbformat": 4
 },
 "nbformat": 4,
 "nbformat_minor": 2
}
